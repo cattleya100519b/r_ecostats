{
 "cells": [
  {
   "cell_type": "markdown",
   "id": "f837934b",
   "metadata": {},
   "source": [
    "# 1 生態学のデータと統計学"
   ]
  },
  {
   "cell_type": "markdown",
   "id": "6105f415",
   "metadata": {},
   "source": [
    "## 1.1 なぜ統計学が必要か？"
   ]
  },
  {
   "cell_type": "markdown",
   "id": "e930193d",
   "metadata": {},
   "source": [
    "## 1.2 確率と統計量"
   ]
  },
  {
   "cell_type": "markdown",
   "id": "ca8a90f8",
   "metadata": {},
   "source": [
    "- ホエールウォッチング（5日間）の発見個体数"
   ]
  },
  {
   "cell_type": "code",
   "execution_count": 7,
   "id": "67754998",
   "metadata": {
    "vscode": {
     "languageId": "r"
    }
   },
   "outputs": [
    {
     "name": "stdout",
     "output_type": "stream",
     "text": [
      "[1] 20  0  5 10 15\n"
     ]
    }
   ],
   "source": [
    "# Combine Values into a Vector or List\n",
    "whale <- c(20,0,5,10,15)\n",
    "print(whale)"
   ]
  },
  {
   "cell_type": "markdown",
   "id": "3e168775",
   "metadata": {},
   "source": [
    "- 要約統計量としての『**平均値**』（確率変数の代表値の一つ）"
   ]
  },
  {
   "cell_type": "code",
   "execution_count": 9,
   "id": "f50af689",
   "metadata": {
    "vscode": {
     "languageId": "r"
    }
   },
   "outputs": [
    {
     "data": {
      "text/html": [
       "10"
      ],
      "text/latex": [
       "10"
      ],
      "text/markdown": [
       "10"
      ],
      "text/plain": [
       "[1] 10"
      ]
     },
     "metadata": {},
     "output_type": "display_data"
    }
   ],
   "source": [
    "# 平均\n",
    "sum(whale)/length(whale)"
   ]
  },
  {
   "cell_type": "markdown",
   "id": "9a0432ee",
   "metadata": {},
   "source": [
    "- 算術平均の関数"
   ]
  },
  {
   "cell_type": "code",
   "execution_count": 10,
   "id": "49f6ef09",
   "metadata": {
    "vscode": {
     "languageId": "r"
    }
   },
   "outputs": [
    {
     "data": {
      "text/html": [
       "10"
      ],
      "text/latex": [
       "10"
      ],
      "text/markdown": [
       "10"
      ],
      "text/plain": [
       "[1] 10"
      ]
     },
     "metadata": {},
     "output_type": "display_data"
    }
   ],
   "source": [
    "# Generic function for the (trimmed) arithmetic mean.\n",
    "mean(whale)"
   ]
  },
  {
   "cell_type": "markdown",
   "id": "bc605c0c",
   "metadata": {},
   "source": [
    "- 別の代表値としての『**中央値**』"
   ]
  },
  {
   "cell_type": "code",
   "execution_count": 19,
   "id": "2f5a90cf",
   "metadata": {
    "vscode": {
     "languageId": "r"
    }
   },
   "outputs": [
    {
     "name": "stdout",
     "output_type": "stream",
     "text": [
      "平均値: 10.00, 307.00\n",
      "中央値: 10.00, 10.00\n"
     ]
    }
   ],
   "source": [
    "whale2 <- c(20,0,5,10,1500)\n",
    "cat(sprintf(\"平均値: %.2f, %.2f\\n\", mean(whale), mean(whale2)))\n",
    "cat(sprintf(\"中央値: %.2f, %.2f\\n\", median(whale), median(whale2)))"
   ]
  },
  {
   "cell_type": "markdown",
   "id": "d81067ac",
   "metadata": {},
   "source": [
    "- 『**確率変数**』の例  \n",
    "   コイン投げ：  \n",
    "   標本空間 $\\Omega = \\{\\text{表}, \\text{裏}\\}$  \n",
    "   確率変数$X$を「表なら1、裏なら0」と定義すると  \n",
    "   $X(\\text{表}) = 1, \\quad X(\\text{裏}) = 0$  \n",
    "   これで$X$は $\\Omega \\to \\mathbb{R}$ の関数である。"
   ]
  },
  {
   "cell_type": "markdown",
   "id": "1c623f40",
   "metadata": {},
   "source": [
    "- 確率空間・確率変数・確率分布について\n",
    "  $$\n",
    "  \\begin{array}{ccc}\n",
    "  \\text{標本空間 } \\Omega & \\longrightarrow & \\text{確率変数 } X \\longrightarrow \\text{確率分布 } P(X) \\\\\n",
    "  \\hline\n",
    "  \\text{表} & \\mapsto & 1 & \\mapsto & P(X=1) = 0.5 \\\\\n",
    "  \\text{裏} & \\mapsto & 0 & \\mapsto & P(X=0) = 0.5 \\\\\n",
    "  \\end{array}\n",
    "  $$\n",
    "\n",
    "  1. 確率変数によって得られる個々の値の名前\n",
    "     - 確率変数 X がある結果 $\\omega \\in \\Omega$ を受け取り、値 $X(\\omega)$ を返す\n",
    "     - 個々の値 $X(\\omega)$ のことは一般に 「**実現値**」 (realization) と呼ぶ  \n",
    "     - 例：\n",
    "       - コイン投げで $\\omega = \\text{表}$ の場合、$X(\\omega) = 1$ は X の 実現値\n",
    "       - 実験を何度も繰り返すと、X の異なる実現値が観測される\n",
    "\n",
    "  2. なぜ $P(X=1)=0.5$ と書くのか（$P(X(表)=1)=0.5$ と書かないか）\n",
    "     - 本来は正確には 「X が 1 になる確率」  \n",
    "     $P(X = 1) = P(\\{\\omega \\in \\Omega \\mid X(\\omega) = 1\\})$\n",
    "     （$\\{\\omega \\in \\Omega \\mid X(\\omega) = 1\\}$ は「X が 1 になる事象」）\n",
    "     - コイン投げの場合、この集合は $\\{\\text{表}\\}$。だから書き換えると：  \n",
    "     $P(X=1) = P(\\{\\text{表}\\}) = 0.5$\n",
    "     - つまり、$X(\\text{表})=1$ という値は関数（確率変数X）の定義の話で、確率の話では $X=1$ という事象を扱う\n",
    "     - だから普段は簡略化して $P(X=1)=0.5$ と書く"
   ]
  }
 ],
 "metadata": {
  "kernelspec": {
   "display_name": "R",
   "language": "R",
   "name": "ir"
  },
  "language_info": {
   "codemirror_mode": "r",
   "file_extension": ".r",
   "mimetype": "text/x-r-source",
   "name": "R",
   "pygments_lexer": "r",
   "version": "4.5.1"
  }
 },
 "nbformat": 4,
 "nbformat_minor": 5
}
