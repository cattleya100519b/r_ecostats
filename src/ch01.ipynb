{
 "cells": [
  {
   "cell_type": "markdown",
   "id": "f837934b",
   "metadata": {},
   "source": [
    "# 1 生態学のデータと統計学"
   ]
  },
  {
   "cell_type": "markdown",
   "id": "6105f415",
   "metadata": {},
   "source": [
    "## 1.1 なぜ統計学が必要か？"
   ]
  },
  {
   "cell_type": "markdown",
   "id": "e930193d",
   "metadata": {},
   "source": [
    "## 1.2 確率と統計量"
   ]
  },
  {
   "cell_type": "code",
   "execution_count": 7,
   "id": "67754998",
   "metadata": {
    "vscode": {
     "languageId": "r"
    }
   },
   "outputs": [
    {
     "name": "stdout",
     "output_type": "stream",
     "text": [
      "[1] 20  0  5 10 15\n"
     ]
    }
   ],
   "source": [
    "# Combine Values into a Vector or List\n",
    "whale <- c(20,0,5,10,15)\n",
    "print(whale)"
   ]
  },
  {
   "cell_type": "code",
   "execution_count": 9,
   "id": "f50af689",
   "metadata": {
    "vscode": {
     "languageId": "r"
    }
   },
   "outputs": [
    {
     "data": {
      "text/html": [
       "10"
      ],
      "text/latex": [
       "10"
      ],
      "text/markdown": [
       "10"
      ],
      "text/plain": [
       "[1] 10"
      ]
     },
     "metadata": {},
     "output_type": "display_data"
    }
   ],
   "source": [
    "# 平均\n",
    "sum(whale)/length(whale)"
   ]
  },
  {
   "cell_type": "code",
   "execution_count": 10,
   "id": "49f6ef09",
   "metadata": {
    "vscode": {
     "languageId": "r"
    }
   },
   "outputs": [
    {
     "data": {
      "text/html": [
       "10"
      ],
      "text/latex": [
       "10"
      ],
      "text/markdown": [
       "10"
      ],
      "text/plain": [
       "[1] 10"
      ]
     },
     "metadata": {},
     "output_type": "display_data"
    }
   ],
   "source": [
    "# Generic function for the (trimmed) arithmetic mean.\n",
    "mean(whale)"
   ]
  }
 ],
 "metadata": {
  "kernelspec": {
   "display_name": "R",
   "language": "R",
   "name": "ir"
  },
  "language_info": {
   "codemirror_mode": "r",
   "file_extension": ".r",
   "mimetype": "text/x-r-source",
   "name": "R",
   "pygments_lexer": "r",
   "version": "4.5.1"
  }
 },
 "nbformat": 4,
 "nbformat_minor": 5
}
